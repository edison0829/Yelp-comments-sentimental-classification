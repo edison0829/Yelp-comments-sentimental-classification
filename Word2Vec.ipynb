{
 "cells": [
  {
   "cell_type": "code",
   "execution_count": 1,
   "metadata": {},
   "outputs": [
    {
     "name": "stderr",
     "output_type": "stream",
     "text": [
      "Using TensorFlow backend.\n"
     ]
    }
   ],
   "source": [
    "import numpy as np\n",
    "from keras.utils import np_utils\n",
    "X_train = np.load('X_train_100d.npy')\n",
    "y_train = np.load('y_train.npy')\n",
    "X_test = np.load('X_test_100d.npy')\n",
    "y_test = np.load('y_test.npy')\n",
    "y_train = np_utils.to_categorical(y_train, num_classes=3)\n",
    "y_test = np_utils.to_categorical(y_test, num_classes=3)"
   ]
  },
  {
   "cell_type": "code",
   "execution_count": 2,
   "metadata": {},
   "outputs": [
    {
     "name": "stdout",
     "output_type": "stream",
     "text": [
      "Training ------------\n",
      "Epoch 1/10\n",
      "30000/30000 [==============================] - 2s - loss: 1.0931 - acc: 0.3589     \n",
      "Epoch 2/10\n",
      "30000/30000 [==============================] - 1s - loss: 1.0987 - acc: 0.3298     \n",
      "Epoch 3/10\n",
      "30000/30000 [==============================] - 1s - loss: 1.0987 - acc: 0.3305     \n",
      "Epoch 4/10\n",
      "30000/30000 [==============================] - 1s - loss: 1.0987 - acc: 0.3301     \n",
      "Epoch 5/10\n",
      "30000/30000 [==============================] - 1s - loss: 1.0987 - acc: 0.3334     \n",
      "Epoch 6/10\n",
      "30000/30000 [==============================] - 1s - loss: 1.0986 - acc: 0.3340     \n",
      "Epoch 7/10\n",
      "30000/30000 [==============================] - 1s - loss: 1.0987 - acc: 0.3307     \n",
      "Epoch 8/10\n",
      "30000/30000 [==============================] - 1s - loss: 1.0987 - acc: 0.3312     \n",
      "Epoch 9/10\n",
      "30000/30000 [==============================] - 1s - loss: 1.0987 - acc: 0.3299     \n",
      "Epoch 10/10\n",
      "30000/30000 [==============================] - 1s - loss: 1.0986 - acc: 0.3361     \n",
      "\n",
      "Testing ------------\n",
      "5440/6000 [==========================>...] - ETA: 0s('test loss: ', 1.0986427097320557)\n",
      "('test accuracy: ', 0.33333333333333331)\n"
     ]
    }
   ],
   "source": [
    "np.random.seed(1337)  # for reproducibility\n",
    "from keras.datasets import mnist\n",
    "from keras.utils import np_utils\n",
    "from keras.models import Sequential\n",
    "from keras.layers import Dense, Activation\n",
    "from keras.optimizers import RMSprop\n",
    "\n",
    "\n",
    "# data pre-processing\n",
    "#X_train = X_train.reshape(X_train.shape[0], X_train.shape[1])   # normalize\n",
    "#X_test = X_test.reshape(X_test.shape[0], X_test.shape[1])      # normalize\n",
    "\n",
    "\n",
    "# Another way to build your neural net\n",
    "model = Sequential([\n",
    "    Dense(64, input_dim=100),\n",
    "    Activation('relu'),\n",
    "    Dense(3),\n",
    "    Activation('softmax'),\n",
    "])\n",
    "\n",
    "# Another way to define your optimizer\n",
    "rmsprop = RMSprop(lr=0.001, rho=0.9, epsilon=1e-08, decay=0.0)\n",
    "\n",
    "# We add metrics to get more results you want to see\n",
    "model.compile(optimizer=rmsprop,\n",
    "              loss='categorical_crossentropy',\n",
    "              metrics=['accuracy'])\n",
    "\n",
    "print('Training ------------')\n",
    "# Another way to train the model\n",
    "model.fit(X_train, y_train, epochs=10, batch_size=50)\n",
    "\n",
    "print('\\nTesting ------------')\n",
    "# Evaluate the model with the metrics we defined earlier\n",
    "loss, accuracy = model.evaluate(X_test, y_test)\n",
    "\n",
    "print('test loss: ', loss)\n",
    "print('test accuracy: ', accuracy)"
   ]
  },
  {
   "cell_type": "code",
   "execution_count": null,
   "metadata": {
    "collapsed": true
   },
   "outputs": [],
   "source": []
  }
 ],
 "metadata": {
  "kernelspec": {
   "display_name": "Python 2",
   "language": "python",
   "name": "python2"
  },
  "language_info": {
   "codemirror_mode": {
    "name": "ipython",
    "version": 2
   },
   "file_extension": ".py",
   "mimetype": "text/x-python",
   "name": "python",
   "nbconvert_exporter": "python",
   "pygments_lexer": "ipython2",
   "version": "2.7.12"
  }
 },
 "nbformat": 4,
 "nbformat_minor": 2
}
