{
 "cells": [
  {
   "cell_type": "code",
   "execution_count": 1,
   "metadata": {
    "collapsed": true
   },
   "outputs": [],
   "source": [
    "import json\n",
    "path = \"final.json\"\n",
    "\n",
    "train=[]\n",
    "\n",
    "with open(path, 'r') as f:\n",
    "    for line in f:\n",
    "        temp = json.loads(line.strip())\n",
    "        train.append(temp)"
   ]
  },
  {
   "cell_type": "code",
   "execution_count": 2,
   "metadata": {
    "collapsed": true
   },
   "outputs": [],
   "source": [
    "import json\n",
    "path = \"final_test.json\"\n",
    "\n",
    "test=[]\n",
    "\n",
    "with open(path, 'r') as f:\n",
    "    for line in f:\n",
    "        temp = json.loads(line.strip())\n",
    "        test.append(temp)"
   ]
  },
  {
   "cell_type": "code",
   "execution_count": 3,
   "metadata": {},
   "outputs": [
    {
     "name": "stderr",
     "output_type": "stream",
     "text": [
      "[nltk_data] Downloading package opinion_lexicon to /root/nltk_data...\n",
      "[nltk_data]   Package opinion_lexicon is already up-to-date!\n",
      "[nltk_data] Downloading package punkt to /root/nltk_data...\n",
      "[nltk_data]   Package punkt is already up-to-date!\n"
     ]
    },
    {
     "data": {
      "text/plain": [
       "True"
      ]
     },
     "execution_count": 3,
     "metadata": {},
     "output_type": "execute_result"
    }
   ],
   "source": [
    "import nltk\n",
    "nltk.download('opinion_lexicon')\n",
    "nltk.download('punkt')"
   ]
  },
  {
   "cell_type": "code",
   "execution_count": 4,
   "metadata": {
    "collapsed": true
   },
   "outputs": [],
   "source": [
    "vector_size=100\n",
    "ratio_=0.3"
   ]
  },
  {
   "cell_type": "code",
   "execution_count": 5,
   "metadata": {
    "collapsed": true
   },
   "outputs": [],
   "source": [
    "###extra top5000 words, top 10000 bigram, top 10000 trigram\n",
    "from nltk.tokenize import sent_tokenize\n",
    "from nltk.tokenize import word_tokenize\n",
    "top_words={}\n",
    "top_bigrams={}\n",
    "top_trigrams={}\n",
    "for each in train:\n",
    "    sent_tokenize_list = sent_tokenize(each[\"text\"])\n",
    "    for sen in sent_tokenize_list:\n",
    "        words = word_tokenize(sen)\n",
    "        words = list(map(lambda x:x.lower(),words))\n",
    "        words_len=len(words)        \n",
    "        for i,word in enumerate(words):\n",
    "            if word in top_words:\n",
    "                top_words[word]+=1\n",
    "            else:\n",
    "                top_words[word]=1\n",
    "            if i+1<words_len:\n",
    "                if words[i]+\" \"+words[i+1] in top_bigrams:\n",
    "                    top_bigrams[words[i]+\" \"+words[i+1]]+=1\n",
    "                else:\n",
    "                    top_bigrams[words[i]+\" \"+words[i+1]]=1\n",
    "            if i+2<words_len:\n",
    "                if words[i]+\" \"+words[i+1]+\" \"+words[i+2] in top_trigrams:\n",
    "                    top_trigrams[words[i]+\" \"+words[i+1]+\" \"+words[i+2]]+=1\n",
    "                else:\n",
    "                    top_trigrams[words[i]+\" \"+words[i+1]+\" \"+words[i+2]]=1\n",
    "\n",
    "words_ = list(map(lambda x:x[0],sorted(top_words.items(),key=lambda x:x[1],reverse = True)))\n",
    "birgrams_ = list(map(lambda x:x[0],sorted(top_bigrams.items(),key=lambda x:x[1],reverse = True)))\n",
    "trigrams_ = list(map(lambda x:x[0],sorted(top_trigrams.items(),key=lambda x:x[1],reverse = True)))\n",
    "top_dict={}\n",
    "count=1\n",
    "for each in words_:\n",
    "    top_dict[each]=count\n",
    "    count+=1\n",
    "    if count>5000:\n",
    "        break\n",
    "for each in birgrams_:\n",
    "    top_dict[each]=count\n",
    "    count+=1\n",
    "    if count>15000:\n",
    "        break\n",
    "for each in trigrams_:\n",
    "    top_dict[each]=count\n",
    "    count+=1\n",
    "    if count>20000:\n",
    "        break\n"
   ]
  },
  {
   "cell_type": "code",
   "execution_count": 6,
   "metadata": {
    "collapsed": true
   },
   "outputs": [],
   "source": [
    "import nltk\n",
    "from nltk.tokenize import sent_tokenize\n",
    "from nltk.tokenize import word_tokenize\n",
    "from nltk.corpus import stopwords\n",
    "from nltk.corpus import opinion_lexicon\n",
    "\n",
    "positive_set=set(opinion_lexicon.positive())\n",
    "negative_set=set(opinion_lexicon.negative())\n",
    "\n",
    "import numpy as np\n",
    "def avg_vec(sen_list,lexicon,vector):\n",
    "    count=0\n",
    "    sec_vec = np.array([0.0 for i in range(vector_size)])\n",
    "    for sen in sen_list:\n",
    "        words = word_tokenize(sen)\n",
    "        for word in sen:\n",
    "            count+=1\n",
    "            if word in lexicon:\n",
    "                vec = np.array(vector[data[word]])\n",
    "                sec_vec+=vec\n",
    "            else:\n",
    "                count-=1\n",
    "    return sec_vec/count\n",
    "    \n",
    "def count_vec(sen_list):\n",
    "    vec1=[]\n",
    "    vec2=[]\n",
    "    vec3=[]      \n",
    "    vec=[]\n",
    "    for sen in sen_list:\n",
    "        words = word_tokenize(sen)\n",
    "        words = list(map(lambda x:x.lower(),words))\n",
    "        words_len = len(words)\n",
    "        for i,word in enumerate(words):\n",
    "            bigram=\"\"  \n",
    "            trigram=\"\"\n",
    "            if i+1<words_len:\n",
    "                bigram=words[i]+\" \"+words[i+1]\n",
    "            if i+2<words_len:\n",
    "                trigram=words[i]+\" \"+words[i+1]+\" \"+words[i+2]\n",
    "            if word in top_dict:\n",
    "                vec1.append(top_dict[word])\n",
    "            if bigram in top_dict:\n",
    "                vec2.append(top_dict[bigram])\n",
    "            if trigram in top_dict:\n",
    "                vec3.append(top_dict[trigram])\n",
    "    return vec2+vec1+vec3\n",
    "                \n",
    "\n",
    "def text_to_vec(sentenses,lexicon,vector):\n",
    "    sent_tokenize_list = sent_tokenize(sentenses)\n",
    "    return avg_vec(sent_tokenize_list,lexicon,vector)\n",
    "\n",
    "def text_to_vec_count(sentenses):\n",
    "    sent_tokenize_list = sent_tokenize(sentenses)\n",
    "    return count_vec(sent_tokenize_list)\n",
    "\n",
    "def text_to_pos(sentenses):\n",
    "    sen_list = sent_tokenize(sentenses)\n",
    "    res = []\n",
    "    for sen in sen_list:\n",
    "        words = words = word_tokenize(sen)\n",
    "        res.append(nltk.pos_tag(words))\n",
    "    return res\n",
    "\n",
    "##simple count\n",
    "def text_to_sentiment(sentenses):\n",
    "    sen_list = sent_tokenize(sentenses)\n",
    "    pos_words = 0\n",
    "    neg_words = 0\n",
    "    for sen in sen_list:\n",
    "        words = words = word_tokenize(sen)\n",
    "        for word in words:\n",
    "            if word in positive_set:\n",
    "                pos_words+=1\n",
    "            if word in negative_set:\n",
    "                neg_words+=1\n",
    "    if pos_words>neg_words:\n",
    "        return 1\n",
    "    elif pos_words<neg_words:\n",
    "        return -1\n",
    "    else:\n",
    "        return 0\n",
    "\n",
    "##count and ratio\n",
    "def text_to_sentiment_ratio(sentenses):\n",
    "    sen_list = sent_tokenize(sentenses)\n",
    "    pos_words = 0\n",
    "    neg_words = 0\n",
    "    count = 0\n",
    "    for sen in sen_list:\n",
    "        words = word_tokenize(sen)        \n",
    "        for word in words:\n",
    "            count+=1\n",
    "            if word in positive_set:\n",
    "                pos_words+=1\n",
    "                #print(word,\"pos\")\n",
    "            if word in negative_set:\n",
    "                neg_words+=1\n",
    "                #print(word,\"neg\")\n",
    "    if pos_words+neg_words==0:\n",
    "        return 0\n",
    "    score = (pos_words-neg_words)*1.0/(pos_words+neg_words)\n",
    "    if score>ratio_:\n",
    "        return 1\n",
    "    elif score<ratio_:\n",
    "        return -1\n",
    "    else:\n",
    "        return 0"
   ]
  },
  {
   "cell_type": "code",
   "execution_count": 7,
   "metadata": {
    "collapsed": true
   },
   "outputs": [],
   "source": [
    "y_train = list(map(lambda x:x[\"stars\"],train))\n",
    "def mapper(x):\n",
    "    if x>=5:\n",
    "        return 1\n",
    "    elif x<=2:\n",
    "        return -1\n",
    "    else: \n",
    "        return 0\n",
    "y_train = list(map(lambda x:mapper(x),y_train))\n",
    "y_train = np.array(y_train)\n",
    "np.save(\"y_train\",y_train)"
   ]
  },
  {
   "cell_type": "code",
   "execution_count": 8,
   "metadata": {
    "collapsed": true
   },
   "outputs": [],
   "source": [
    "y_test = list(map(lambda x:x[\"stars\"],test))\n",
    "def mapper(x):\n",
    "    if x>=5:\n",
    "        return 1\n",
    "    elif x<=2:\n",
    "        return -1\n",
    "    else: \n",
    "        return 0\n",
    "y_test = list(map(lambda x:mapper(x),y_test))\n",
    "y_test = np.array(y_test)\n",
    "np.save(\"y_test\",y_test)"
   ]
  },
  {
   "cell_type": "code",
   "execution_count": 9,
   "metadata": {
    "collapsed": true
   },
   "outputs": [],
   "source": [
    "###X_train_count\n",
    "X_train = list(map(lambda x:text_to_vec_count(x[\"text\"]),train))\n",
    "X_train = np.array(X_train)\n",
    "np.save('X_train_count',X_train)"
   ]
  },
  {
   "cell_type": "code",
   "execution_count": 10,
   "metadata": {
    "collapsed": true
   },
   "outputs": [],
   "source": [
    "###X_test_count\n",
    "X_test = list(map(lambda x:text_to_vec_count(x[\"text\"]),test))\n",
    "X_test = np.array(X_test)\n",
    "np.save('X_test_count',X_test)"
   ]
  },
  {
   "cell_type": "code",
   "execution_count": 11,
   "metadata": {
    "collapsed": true
   },
   "outputs": [],
   "source": [
    "X_train = list(map(lambda x:text_to_sentiment_ratio(x[\"text\"]),train))\n",
    "X_train = np.array(X_train)\n",
    "np.save('X_train_sentiment_ratio',X_train)"
   ]
  },
  {
   "cell_type": "code",
   "execution_count": 12,
   "metadata": {
    "collapsed": true
   },
   "outputs": [],
   "source": [
    "X_test = list(map(lambda x:text_to_sentiment_ratio(x[\"text\"]),test))\n",
    "X_test = np.array(X_test)\n",
    "np.save('X_test_sentiment_ratio',X_test)"
   ]
  },
  {
   "cell_type": "code",
   "execution_count": 13,
   "metadata": {
    "collapsed": true
   },
   "outputs": [],
   "source": [
    "X_train = list(map(lambda x:text_to_sentiment(x[\"text\"]),train))\n",
    "X_train = np.array(X_train)\n",
    "np.save('X_train_sentiment',X_train)"
   ]
  },
  {
   "cell_type": "code",
   "execution_count": 14,
   "metadata": {
    "collapsed": true
   },
   "outputs": [],
   "source": [
    "X_test = list(map(lambda x:text_to_sentiment(x[\"text\"]),test))\n",
    "X_test = np.array(X_test)\n",
    "np.save('X_test_sentiment',X_test)"
   ]
  },
  {
   "cell_type": "code",
   "execution_count": 15,
   "metadata": {},
   "outputs": [
    {
     "name": "stderr",
     "output_type": "stream",
     "text": [
      "/usr/local/lib/python2.7/dist-packages/ipykernel_launcher.py:23: RuntimeWarning: invalid value encountered in divide\n"
     ]
    }
   ],
   "source": [
    "###word2vec\n",
    "def load_dict(path):\n",
    "    data = {}\n",
    "    vectors=[]\n",
    "    with open(path,\"r\") as f:\n",
    "        count=0\n",
    "        for line in f.readlines():\n",
    "            l = line.split(\" \")\n",
    "            word = l[0]\n",
    "            vector = list(map(lambda x:float(x),l[1:]))\n",
    "            \n",
    "            data[word]=count\n",
    "            vectors.append(vector)\n",
    "            count+=1\n",
    "    return data, vectors\n",
    "path=\"glove.twitter.27B.100d.txt\"\n",
    "data,vectors = load_dict(path)\n",
    "\n",
    "X_train = list(map(lambda x:text_to_vec(x[\"text\"],data,vectors),train))\n",
    "X_train=np.array(X_train)\n",
    "np.save('X_train_100d',X_train)\n",
    "X_test = list(map(lambda x:text_to_vec(x[\"text\"],data,vectors),test))\n",
    "X_test=np.array(X_test)\n",
    "np.save('X_test_100d',X_test)\n"
   ]
  },
  {
   "cell_type": "code",
   "execution_count": null,
   "metadata": {
    "collapsed": true
   },
   "outputs": [],
   "source": []
  },
  {
   "cell_type": "code",
   "execution_count": null,
   "metadata": {
    "collapsed": true
   },
   "outputs": [],
   "source": []
  }
 ],
 "metadata": {
  "kernelspec": {
   "display_name": "Python 2",
   "language": "python",
   "name": "python2"
  },
  "language_info": {
   "codemirror_mode": {
    "name": "ipython",
    "version": 2
   },
   "file_extension": ".py",
   "mimetype": "text/x-python",
   "name": "python",
   "nbconvert_exporter": "python",
   "pygments_lexer": "ipython2",
   "version": "2.7.12"
  }
 },
 "nbformat": 4,
 "nbformat_minor": 2
}
